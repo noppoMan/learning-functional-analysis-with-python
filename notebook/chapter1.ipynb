{
 "cells": [
  {
   "cell_type": "code",
   "execution_count": 1,
   "metadata": {},
   "outputs": [],
   "source": [
    "%load_ext autoreload\n",
    "%autoreload 2"
   ]
  },
  {
   "cell_type": "code",
   "execution_count": 2,
   "metadata": {},
   "outputs": [],
   "source": [
    "import sys\n",
    "import os\n",
    "import numpy as np\n",
    "import sympy as sym\n",
    "from IPython.display import display, Math, Image"
   ]
  },
  {
   "cell_type": "code",
   "execution_count": 3,
   "metadata": {},
   "outputs": [
    {
     "name": "stdout",
     "output_type": "stream",
     "text": [
      "A: [0, 1, 2, 3, 4]\n",
      "B: [0.  0.1 0.2 0.3 0.4 0.5 0.6 0.7 0.8 0.9]\n"
     ]
    }
   ],
   "source": [
    "A = [0, 1, 2, 3, 4]\n",
    "B = np.arange(0, 1, 0.1)\n",
    "\n",
    "print(\"A:\", A)\n",
    "print(\"B:\", B)"
   ]
  },
  {
   "cell_type": "markdown",
   "metadata": {},
   "source": [
    "# 実数"
   ]
  },
  {
   "cell_type": "code",
   "execution_count": 4,
   "metadata": {},
   "outputs": [
    {
     "name": "stdout",
     "output_type": "stream",
     "text": [
      "R(1.0) R(2.0)\n",
      "<class 'npmath.space.MathSet'>\n",
      "R(1.1) R(1.4)\n"
     ]
    }
   ],
   "source": [
    "from npmath.space import R, MathSet, IncompatibleElementTypeError, NotInError\n",
    "\n",
    "RSet = MathSet(lambda x: R(x))\n",
    "\n",
    "# 𝑎, b ∈ R\n",
    "a, b = RSet.take(1., 2.)\n",
    "print(a, b)\n",
    "\n",
    "# 𝐴 ⊂ R\n",
    "A = RSet.subset([1.1, 1.2, 1.3, 1.4, 1.5])\n",
    "print(type(A))\n",
    "a, b = A.take(1.1, 1.4)\n",
    "print(a, b)"
   ]
  },
  {
   "cell_type": "code",
   "execution_count": 5,
   "metadata": {},
   "outputs": [
    {
     "name": "stdout",
     "output_type": "stream",
     "text": [
      "10 is not in the Set\n"
     ]
    }
   ],
   "source": [
    "try:\n",
    "    A.take(10)\n",
    "except NotInError as e:\n",
    "    print(e)"
   ]
  },
  {
   "cell_type": "code",
   "execution_count": 6,
   "metadata": {},
   "outputs": [
    {
     "name": "stdout",
     "output_type": "stream",
     "text": [
      "R(3.0)\n",
      "R(-1.0)\n",
      "R(2.0)\n",
      "R(0.5)\n",
      "False\n",
      "True\n"
     ]
    }
   ],
   "source": [
    "a, b = RSet.take(1., 2.)\n",
    "print(a + b)\n",
    "print(a - b)\n",
    "print(a * b)\n",
    "print(a / b)\n",
    "\n",
    "print(a == b)\n",
    "print(a < b)"
   ]
  },
  {
   "cell_type": "code",
   "execution_count": 7,
   "metadata": {},
   "outputs": [
    {
     "name": "stdout",
     "output_type": "stream",
     "text": [
      "element type should be a float or int. not <str>\n",
      "element type should be a float or int. not <function>\n"
     ]
    }
   ],
   "source": [
    "try:\n",
    "    RSet.take(\"hello world\")\n",
    "except IncompatibleElementTypeError as e:\n",
    "    print(e)\n",
    "    \n",
    "try:\n",
    "    RSet.subset([1, 2, 3, lambda: 1 + 2])\n",
    "except IncompatibleElementTypeError as e:\n",
    "    print(e)    "
   ]
  },
  {
   "cell_type": "markdown",
   "metadata": {},
   "source": [
    "# 自然数"
   ]
  },
  {
   "cell_type": "code",
   "execution_count": 8,
   "metadata": {},
   "outputs": [
    {
     "name": "stdout",
     "output_type": "stream",
     "text": [
      "N(1) N(2)\n",
      "N(3)\n",
      "N(2)\n",
      "element type should be a natural number. not <int>\n"
     ]
    }
   ],
   "source": [
    "from npmath.space import AnyElement, MathSet, IncompatibleElementTypeError, NotInError\n",
    "\n",
    "class N(AnyElement):\n",
    "    def validate(self):\n",
    "        error = IncompatibleElementTypeError(f\"element type should be a natural number. not <{type(self.value).__name__}>\")\n",
    "        if type(self.value) is not int:\n",
    "            raise error\n",
    "            \n",
    "        if self.value < 0:\n",
    "            raise error\n",
    "            \n",
    "    def __add__(self, other):\n",
    "        return self._operate(other, \"__add__\")\n",
    "    \n",
    "    def __mul__(self, other):\n",
    "        return self._operate(other, \"__mul__\")\n",
    "        \n",
    "NSet = MathSet(N)\n",
    "a, b = NSet.take(1, 2)\n",
    "print(a, b)\n",
    "    \n",
    "print(a + b)\n",
    "print(a * b)\n",
    "\n",
    "try:\n",
    "    NSet.take(-1)\n",
    "except IncompatibleElementTypeError as e:\n",
    "    print(e)"
   ]
  }
 ],
 "metadata": {
  "hide_code_all_hidden": false,
  "kernelspec": {
   "display_name": "Python 3",
   "language": "python",
   "name": "python3"
  },
  "language_info": {
   "codemirror_mode": {
    "name": "ipython",
    "version": 3
   },
   "file_extension": ".py",
   "mimetype": "text/x-python",
   "name": "python",
   "nbconvert_exporter": "python",
   "pygments_lexer": "ipython3",
   "version": "3.8.0"
  },
  "toc": {
   "base_numbering": 1,
   "nav_menu": {},
   "number_sections": false,
   "sideBar": true,
   "skip_h1_title": false,
   "title_cell": "Table of Contents",
   "title_sidebar": "Contents",
   "toc_cell": false,
   "toc_position": {},
   "toc_section_display": true,
   "toc_window_display": false
  }
 },
 "nbformat": 4,
 "nbformat_minor": 4
}
