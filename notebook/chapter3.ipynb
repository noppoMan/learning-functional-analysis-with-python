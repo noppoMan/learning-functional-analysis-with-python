{
 "cells": [
  {
   "cell_type": "code",
   "execution_count": 1,
   "metadata": {},
   "outputs": [],
   "source": [
    "%load_ext autoreload\n",
    "%autoreload 2"
   ]
  },
  {
   "cell_type": "code",
   "execution_count": 2,
   "metadata": {},
   "outputs": [],
   "source": [
    "import numpy as np"
   ]
  },
  {
   "cell_type": "markdown",
   "metadata": {},
   "source": [
    "# 1次元ユークリッド空間"
   ]
  },
  {
   "cell_type": "code",
   "execution_count": 3,
   "metadata": {},
   "outputs": [
    {
     "name": "stdout",
     "output_type": "stream",
     "text": [
      "1.0\n",
      "2.0\n",
      "3.0\n"
     ]
    }
   ],
   "source": [
    "import random\n",
    "from npmath.space import NormSpace, R\n",
    "\n",
    "class OneDimEuclideanSpace(NormSpace):\n",
    "    def __init__(self):\n",
    "        super().__init__(lambda x: R(x))\n",
    "        \n",
    "    def norm(self, x):\n",
    "        return abs(x.value)\n",
    "\n",
    "V = OneDimEuclideanSpace()\n",
    "x, y, z = V.take(1., 2., 3.)\n",
    "\n",
    "print(V.norm(x))\n",
    "print(V.norm(y))\n",
    "print(V.norm(z))"
   ]
  },
  {
   "cell_type": "markdown",
   "metadata": {},
   "source": [
    "# ノルムの条件をみたすことのテスト"
   ]
  },
  {
   "cell_type": "code",
   "execution_count": 4,
   "metadata": {},
   "outputs": [],
   "source": [
    "from abc import ABC, abstractmethod\n",
    "import random\n",
    "from npmath.space import NormSpace, R, test_norm_conditions_fulfilled\n",
    "\n",
    "class AutomatedTestable(ABC):\n",
    "    @abstractmethod\n",
    "    def zeros(self): pass\n",
    "    \n",
    "    @abstractmethod\n",
    "    def random_scalar(self): pass\n",
    "    \n",
    "    @abstractmethod\n",
    "    def random_take(self): pass\n",
    "\n",
    "class OneDimEuclideanSpace(NormSpace, AutomatedTestable):\n",
    "    def __init__(self):\n",
    "        super().__init__(lambda x: R(x))\n",
    "        \n",
    "    def norm(self, x):\n",
    "        return abs(x.value)\n",
    "    \n",
    "    def zeros(self):\n",
    "        return self.take(0.)\n",
    "\n",
    "    def random_scalar(self):\n",
    "        return random.uniform(-1., 1.)\n",
    "    \n",
    "    def random_take(self):\n",
    "        return self.take(random.uniform(-1., 1.))\n",
    "    \n",
    "V = OneDimEuclideanSpace()\n",
    "for _ in range(0, 100):\n",
    "    test_norm_conditions_fulfilled(V)"
   ]
  },
  {
   "cell_type": "code",
   "execution_count": 5,
   "metadata": {},
   "outputs": [
    {
     "name": "stdout",
     "output_type": "stream",
     "text": [
      "AssertionError: \n"
     ]
    }
   ],
   "source": [
    "class BadOneDimEuclideanSpace(OneDimEuclideanSpace):\n",
    "    def norm(self, x):\n",
    "        return x.value\n",
    "    \n",
    "    def random_scalar(self):\n",
    "        return random.uniform(-1., -0.1)\n",
    "    \n",
    "    def random_take(self):\n",
    "        return self.take(random.uniform(-1., -0.1))    \n",
    "\n",
    "V = BadOneDimEuclideanSpace()\n",
    "try:\n",
    "    test_norm_conditions_fulfilled(V)\n",
    "except Exception as e:\n",
    "    print(f\"{e.__class__.__name__}: {e}\")"
   ]
  },
  {
   "cell_type": "code",
   "execution_count": 6,
   "metadata": {},
   "outputs": [],
   "source": [
    "from npmath.space import NormSpace, MetricSpace, R, test_metric_conditions_fulfilled\n",
    "    \n",
    "class OneDimEuclideanSpace(NormSpace, MetricSpace, AutomatedTestable):\n",
    "    def __init__(self):\n",
    "        super().__init__(lambda x: R(x))\n",
    "        \n",
    "    def norm(self, x):\n",
    "        return abs(x.value)\n",
    "    \n",
    "    def distance(self, x, y):\n",
    "        return self.norm(x - y)\n",
    "    \n",
    "    def zeros(self):\n",
    "        return self.take(0.)\n",
    "\n",
    "    def random_scalar(self):\n",
    "        return random.uniform(-1., 1.)\n",
    "    \n",
    "    def random_take(self):\n",
    "        return self.take(random.uniform(-1., 1.))\n",
    "    \n",
    "V = OneDimEuclideanSpace()\n",
    "for _ in range(0, 100):\n",
    "    test_metric_conditions_fulfilled(V)"
   ]
  },
  {
   "cell_type": "code",
   "execution_count": 7,
   "metadata": {},
   "outputs": [],
   "source": [
    "from npmath.space import RealVector, MetricVectorSpace, AutomatedTestable, test_metric_conditions_fulfilled\n",
    "\n",
    "class TestableMetricVectorSpace(MetricVectorSpace, AutomatedTestable):\n",
    "    def zeros(self):\n",
    "        return self.take(np.zeros(self.ndm))\n",
    "\n",
    "    def random_scalar(self):\n",
    "        return random.uniform(-1., 1.)\n",
    "    \n",
    "    def random_take(self):\n",
    "        return self.take(np.random.rand(self.ndim))\n",
    "\n",
    "V = TestableMetricVectorSpace(RealVector, ndim=3)\n",
    "for _ in range(0, 100):\n",
    "    test_metric_conditions_fulfilled(V)"
   ]
  },
  {
   "cell_type": "markdown",
   "metadata": {},
   "source": [
    "# コーシー列"
   ]
  },
  {
   "cell_type": "code",
   "execution_count": 7,
   "metadata": {},
   "outputs": [
    {
     "data": {
      "text/latex": [
       "$\\displaystyle f_n(x) = \\frac{\\sin^{2}{\\left(x \\right)}}{n}$"
      ],
      "text/plain": [
       "<IPython.core.display.Math object>"
      ]
     },
     "metadata": {},
     "output_type": "display_data"
    },
    {
     "data": {
      "text/latex": [
       "$\\displaystyle \\|f_m - f_n\\| = \\int\\limits_{0}^{2} \\left(\\frac{\\sin^{2}{\\left(x \\right)}}{n} - \\frac{\\sin^{2}{\\left(x \\right)}}{m}\\right)\\, dx$"
      ],
      "text/plain": [
       "<IPython.core.display.Math object>"
      ]
     },
     "metadata": {},
     "output_type": "display_data"
    },
    {
     "data": {
      "image/png": "[encoded data removed]",
      "text/plain": [
       "<Figure size 576x288 with 1 Axes>"
      ]
     },
     "metadata": {
      "needs_background": "light"
     },
     "output_type": "display_data"
    }
   ],
   "source": [
    "from matplotlib import pyplot as plt\n",
    "import sympy as sym\n",
    "from IPython.display import display, Math\n",
    "\n",
    "x, n, m = sym.symbols('x, n, m') \n",
    "expn = sym.sin(x)**2\n",
    "\n",
    "f = lambda n: sym.expand_trig(expn)/n\n",
    "F = lambda f: sym.Integral(f, (x, 0, 2))\n",
    "\n",
    "display(Math(\"f_n(x) = \"+ sym.latex(f(n))))\n",
    "display(Math(\"\\|f_m - f_n\\| = \"+ sym.latex(F(f(n) - f(m)))))\n",
    "\n",
    "epsilons = []\n",
    "distances = []\n",
    "\n",
    "n_range = np.arange(10001, 11001, 2)\n",
    "m_range = np.arange(10002, 11001, 2)\n",
    "\n",
    "for n, m in zip(n_range, m_range):\n",
    "    epsilon = np.sqrt(1.189/n**2 + 1.189/m**2)\n",
    "    d = F(f(n) - f(m)).evalf()\n",
    "    \n",
    "    epsilons.append(epsilon)\n",
    "    distances.append(d)\n",
    "    \n",
    "plt.figure(figsize=(8, 4))\n",
    "plt.plot(n_range, distances)\n",
    "plt.plot(n_range, epsilons, alpha=0.7)\n",
    "plt.xlabel('n, m')\n",
    "# plt.ylabel('value')\n",
    "plt.legend(['‖f_m - f_n‖', 'epsilon'], prop={'size': 15})\n",
    "plt.show()"
   ]
  },
  {
   "cell_type": "code",
   "execution_count": 9,
   "metadata": {},
   "outputs": [],
   "source": [
    "from npmath.space import CSpace\n",
    "import sympy as sym\n",
    "\n",
    "x, n = sym.symbols('x n')\n",
    "\n",
    "# 有界閉区間[0, π]\n",
    "I = sym.Interval(0, sym.pi).closure\n",
    "# C[0, π]\n",
    "C = CSpace(I, step=1e-2)\n",
    "\n",
    "f_n = sym.sin(x)/n\n",
    "\n",
    "# コーシー列が収束するか\n",
    "C.check_pseudo_cauchy_sequence_convergence(\n",
    "    f_n,\n",
    "    x_symbol=x,\n",
    "    n_symbol=n,\n",
    "    interval=I,\n",
    "    N=10001,\n",
    "    epsilon=1e-7\n",
    ")"
   ]
  },
  {
   "cell_type": "code",
   "execution_count": 10,
   "metadata": {},
   "outputs": [
    {
     "name": "stdout",
     "output_type": "stream",
     "text": [
      "CauchySequenceNoConvergenceError: 10000000000.0000 > 1e-07, x=0.0, m=16424, n=16423\n"
     ]
    }
   ],
   "source": [
    "try:\n",
    "    C.check_pseudo_cauchy_sequence_convergence(\n",
    "        n/(x+1e-10),\n",
    "        x_symbol=x,\n",
    "        n_symbol=n,\n",
    "        interval=I,\n",
    "        N=10001,\n",
    "        epsilon=1e-7\n",
    "    )\n",
    "except Exception as e:\n",
    "    print(f\"{e.__class__.__name__}: {e}\")"
   ]
  },
  {
   "cell_type": "code",
   "execution_count": 11,
   "metadata": {
    "scrolled": false
   },
   "outputs": [
    {
     "name": "stdout",
     "output_type": "stream",
     "text": [
      "f(π/2):  1.00000000000000\n",
      "g(0):  1.00000000000000\n",
      "(f + g)(π):  -1.00000000000000\n",
      "2 * (f + g)(π):  -2.00000000000000\n",
      "(f * g)(π/3):  0.433012701892219\n",
      "‖f‖:  0.999999682931835\n",
      "‖g‖:  1.00000000000000\n"
     ]
    }
   ],
   "source": [
    "f, g = C.take(sym.sin(x), sym.cos(x), symbols=[x, x])\n",
    "\n",
    "print(\"f(π/2): \", f({x: sym.pi/2}))\n",
    "print(\"g(0): \", g({x: 0}))\n",
    "print(\"(f + g)(π): \", (f + g)({x: sym.pi}))\n",
    "print(\"2 * (f + g)(π): \", 2 * (f + g)({x: sym.pi}))\n",
    "print(\"(f * g)(π/3): \", (f * g)({x: sym.pi/3}))\n",
    "print(\"‖f‖: \", C.norm(f, x))\n",
    "print(\"‖g‖: \", C.norm(g, x))"
   ]
  },
  {
   "cell_type": "markdown",
   "metadata": {},
   "source": [
    "# 不連続性の確認"
   ]
  },
  {
   "cell_type": "code",
   "execution_count": 12,
   "metadata": {},
   "outputs": [
    {
     "name": "stdout",
     "output_type": "stream",
     "text": [
      "DiscontinuousFunctionError: f is discontinuas at x=1.0\n"
     ]
    }
   ],
   "source": [
    "x = sym.symbols('x')\n",
    "try:\n",
    "    h = C.take(sym.Piecewise(\n",
    "        (x, (x >= 0) & (x < 1)), \n",
    "        (10, sym.Eq(x, 1)),\n",
    "        (x, (x > 1) & (x <= sym.pi))\n",
    "    ), symbols=[x])\n",
    "except Exception as e:\n",
    "    print(f\"{e.__class__.__name__}: {e}\")"
   ]
  },
  {
   "cell_type": "markdown",
   "metadata": {},
   "source": [
    "# 定義域外の挙動"
   ]
  },
  {
   "cell_type": "code",
   "execution_count": 13,
   "metadata": {},
   "outputs": [
    {
     "name": "stdout",
     "output_type": "stream",
     "text": [
      "OutOfIntervalError: 100 not in Interval(0, pi)\n"
     ]
    }
   ],
   "source": [
    "try:\n",
    "    f({x: 100})\n",
    "except Exception as e:\n",
    "    print(f\"{e.__class__.__name__}: {e}\")"
   ]
  }
 ],
 "metadata": {
  "kernelspec": {
   "display_name": "Python 3",
   "language": "python",
   "name": "python3"
  },
  "language_info": {
   "codemirror_mode": {
    "name": "ipython",
    "version": 3
   },
   "file_extension": ".py",
   "mimetype": "text/x-python",
   "name": "python",
   "nbconvert_exporter": "python",
   "pygments_lexer": "ipython3",
   "version": "3.8.0"
  },
  "toc": {
   "base_numbering": 1,
   "nav_menu": {},
   "number_sections": false,
   "sideBar": true,
   "skip_h1_title": false,
   "title_cell": "Table of Contents",
   "title_sidebar": "Contents",
   "toc_cell": false,
   "toc_position": {},
   "toc_section_display": true,
   "toc_window_display": false
  }
 },
 "nbformat": 4,
 "nbformat_minor": 4
}
